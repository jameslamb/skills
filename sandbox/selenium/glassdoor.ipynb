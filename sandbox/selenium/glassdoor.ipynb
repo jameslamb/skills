{
 "cells": [
  {
   "cell_type": "code",
   "execution_count": 18,
   "metadata": {},
   "outputs": [],
   "source": [
    "# Fetch URL\n",
    "import requests\n",
    "import re\n",
    "from bs4 import BeautifulSoup\n",
    "from pprint import pprint\n",
    "from textblob import TextBlob\n",
    "import os\n",
    "import time\n",
    "from ratelimit import *\n",
    "\n",
    "# For parsing HTML\n",
    "# Fetch URL\n",
    "import requests\n",
    "import re\n",
    "from bs4 import BeautifulSoup\n",
    "from pprint import pprint\n",
    "from textblob import TextBlob\n",
    "import os\n",
    "import time\n",
    "from ratelimit import *\n",
    "from bs4.element import Comment\n",
    "\n",
    "\n",
    "def tag_visible(element):\n",
    "    if element.parent.name in ['style', 'script', 'head', 'title', 'meta', '[document]']:\n",
    "        return False\n",
    "    if isinstance(element, Comment):\n",
    "        return False\n",
    "    return True\n",
    "\n",
    "@rate_limited(1)\n",
    "def get_text_write_to_file(url):\n",
    "    time.sleep(1)\n",
    "    r = requests.get(url)\n",
    "    soup = BeautifulSoup(r.text, \"html5lib\")\n",
    "    title = soup.title.string\n",
    "    jobname = str(title).replace(' ','-').replace('|','-').replace(',','-')\n",
    "#     file_name = str(iteration) +'--' + jobname + '.txt'\n",
    "#     file_name = file_name.replace(\"/\", \"_\").replace(',','')\n",
    "#     full_name = os.path.join(directory, file_name)\n",
    "    texts = soup.findAll(text=True)\n",
    "    visible_texts = filter(tag_visible, texts)\n",
    "    results = u\" \".join(t+'\\n' for t in visible_texts)\n",
    "    print(results)\n"
   ]
  },
  {
   "cell_type": "code",
   "execution_count": 19,
   "metadata": {},
   "outputs": [
    {
     "name": "stdout",
     "output_type": "stream",
     "text": [
      "HTTP Status 403 - Bots not allowed\n",
      " type\n",
      "  Status report\n",
      " message\n",
      "  \n",
      " Bots not allowed\n",
      " description\n",
      "  \n",
      " Access to the specified resource has been forbidden.\n",
      " Apache Tomcat\n",
      "\n"
     ]
    }
   ],
   "source": [
    "get_text_write_to_file('https://www.glassdoor.com/partner/jobListing.htm?pos=107&ao=85944&s=58&guid=00000160f10e8c899b8ea8b91dc33d53&src=GD_JOB_AD&t=SR&extid=1&exst=OL&ist=&ast=OL&vt=w&slr=true&rtp=0&cs=1_379ceaf4&cb=1515872751064&jobListingId=2632519400')"
   ]
  }
 ],
 "metadata": {
  "kernelspec": {
   "display_name": "Python 3",
   "language": "python",
   "name": "python3"
  },
  "language_info": {
   "codemirror_mode": {
    "name": "ipython",
    "version": 3
   },
   "file_extension": ".py",
   "mimetype": "text/x-python",
   "name": "python",
   "nbconvert_exporter": "python",
   "pygments_lexer": "ipython3",
   "version": "3.6.4"
  }
 },
 "nbformat": 4,
 "nbformat_minor": 2
}
